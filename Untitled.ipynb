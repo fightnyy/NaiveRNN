{
 "cells": [
  {
   "cell_type": "code",
   "execution_count": 2,
   "metadata": {},
   "outputs": [],
   "source": [
    "import numpy as np"
   ]
  },
  {
   "cell_type": "code",
   "execution_count": 14,
   "metadata": {},
   "outputs": [
    {
     "name": "stdout",
     "output_type": "stream",
     "text": [
      "[[ 0.22504483 -0.02826801 -0.25411017  0.67634534  2.03145611  0.24023747\n",
      "  -0.13370127 -0.38006784]\n",
      " [ 0.38340456  1.9186841  -0.24231524  1.35796737 -1.9232827  -0.7925408\n",
      "  -1.67695555 -0.81901944]\n",
      " [-0.73565737  0.06984815 -0.41037702 -1.46127425  0.66340382  1.71862585\n",
      "  -0.0436925  -1.23081015]]\n"
     ]
    }
   ],
   "source": [
    "a = [np.random.randn(3,8),np.random.randn(2,4)]\n",
    "print(a[0]+a[])"
   ]
  },
  {
   "cell_type": "code",
   "execution_count": 15,
   "metadata": {},
   "outputs": [
    {
     "name": "stdout",
     "output_type": "stream",
     "text": [
      "[[ 0.45008966 -0.05653602 -0.50822033  1.35269069  4.06291221  0.48047493\n",
      "  -0.26740254 -0.76013568]\n",
      " [ 0.76680912  3.8373682  -0.48463047  2.71593474 -3.8465654  -1.5850816\n",
      "  -3.3539111  -1.63803888]\n",
      " [-1.47131474  0.13969629 -0.82075405 -2.92254849  1.32680764  3.43725169\n",
      "  -0.08738501 -2.4616203 ]]\n"
     ]
    }
   ],
   "source": [
    "grads = [0, 0 ,0]\n",
    "for i, grad in enumerate(a):\n",
    "    for k in range(2):\n",
    "        grads[i] +=grad\n",
    "print(grads[0])"
   ]
  },
  {
   "cell_type": "code",
   "execution_count": null,
   "metadata": {},
   "outputs": [],
   "source": []
  }
 ],
 "metadata": {
  "kernelspec": {
   "display_name": "jupyvenv",
   "language": "python",
   "name": "jupyvenv"
  },
  "language_info": {
   "codemirror_mode": {
    "name": "ipython",
    "version": 3
   },
   "file_extension": ".py",
   "mimetype": "text/x-python",
   "name": "python",
   "nbconvert_exporter": "python",
   "pygments_lexer": "ipython3",
   "version": "3.8.5"
  }
 },
 "nbformat": 4,
 "nbformat_minor": 4
}
